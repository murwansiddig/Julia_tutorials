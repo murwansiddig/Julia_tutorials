{
 "cells": [
  {
   "cell_type": "code",
   "execution_count": 1,
   "metadata": {},
   "outputs": [
    {
     "name": "stdout",
     "output_type": "stream",
     "text": [
      "x is Int64\n",
      "y is Char\n",
      "w is String\n",
      "z is Bool\n"
     ]
    }
   ],
   "source": [
    "#scalar type variables\n",
    "#assign the value 4 to the variable x ==> x is is an integer\n",
    "x=4\n",
    "\n",
    "#assign the letter 'a' to the variable y ==> y is is a character\n",
    "y= 'a'\n",
    "\n",
    "#assign the sentence \"Hello world!\" to the variable w ==> w is is a string\n",
    "w = \"Hello world!\"\n",
    "\n",
    "#assign the expression <true> to the variable z ==> z is is a Bool\n",
    "z = true\n",
    "\n",
    "#Checking the type of each variable\n",
    "println(\"x is \", typeof(x))\n",
    "println(\"y is \", typeof(y))\n",
    "println(\"w is \", typeof(w))\n",
    "println(\"z is \", typeof(z))\n"
   ]
  },
  {
   "cell_type": "code",
   "execution_count": 2,
   "metadata": {},
   "outputs": [
    {
     "name": "stdout",
     "output_type": "stream",
     "text": [
      "c1 is Array{Int64,1}\n",
      "c2 is Array{Float64,1}\n",
      "c3 is Array{Char,1}\n",
      "c4 is Array{String,1}\n",
      "c5 is Array{Bool,1}\n"
     ]
    }
   ],
   "source": [
    "#One Dimensionals Arrays\n",
    "#coloumn vector with integer values\n",
    "c1 = [1; 2; 3]\n",
    "\n",
    "#coloumn vector with Float values\n",
    "c2 = [0.5; 1.0; 1.5]\n",
    "\n",
    "#coloumn vector with character values\n",
    "c3 = ['a'; 'b'; 'c']\n",
    "\n",
    "#coloumn vector with String values\n",
    "c4 = [\"one\"; \"two\"; \"three\"]\n",
    "\n",
    "#coloumn vector with Bool values\n",
    "c5 = [true; false; true; false]\n",
    "\n",
    "#Checking the type of each vector\n",
    "println(\"c1 is \", typeof(c1))\n",
    "println(\"c2 is \", typeof(c2))\n",
    "println(\"c3 is \", typeof(c3))\n",
    "println(\"c4 is \", typeof(c4))\n",
    "println(\"c5 is \", typeof(c5))"
   ]
  },
  {
   "cell_type": "code",
   "execution_count": 3,
   "metadata": {},
   "outputs": [
    {
     "name": "stdout",
     "output_type": "stream",
     "text": [
      "c_zeros = [0.0, 0.0, 0.0]\n",
      "c_ones = [1.0, 1.0, 1.0]\n",
      "c_trues = Bool[true, true, true]\n"
     ]
    }
   ],
   "source": [
    "#One Dimensionals Arrays (Cont.)\n",
    "#initializing vectors with specific values\n",
    "\n",
    "#coloumn vectors with three zeros\n",
    "c_zeros = zeros(3)\n",
    "\n",
    "#coloumn vectors with three ones\n",
    "c_ones = ones(3)\n",
    "\n",
    "#coloumn vectors with three trues\n",
    "c_trues = trues(3)\n",
    "\n",
    "\n",
    "#Checking the values of each vector\n",
    "println(\"c_zeros = \", c_zeros)\n",
    "println(\"c_ones = \", c_ones)\n",
    "println(\"c_trues = \", c_trues)\n"
   ]
  },
  {
   "cell_type": "code",
   "execution_count": 4,
   "metadata": {},
   "outputs": [
    {
     "name": "stdout",
     "output_type": "stream",
     "text": [
      "A1 is Array{Int64,2}\n",
      "A2 is Array{Float64,2}\n",
      "A3 is Array{Char,2}\n",
      "A4 is Array{String,2}\n",
      "==============================\n",
      "==============================\n",
      "A1 =[1 10 100; 2 20 200; 3 30 300]\n",
      "A2 =[0.5 0.5 0.5; 1.0 1.0 1.0; 1.5 1.5 1.5]\n",
      "A3 =['a' 'e' 'f'; 'b' 'g' 'h'; 'c' 'i' 'j']\n",
      "A4 =[\"one\" \"hundred\" \"thousand\"; \"two\" \"two hundred\" \"two thousand\"; \"three\" \"three hundred\" \"three thousand\"]\n"
     ]
    }
   ],
   "source": [
    "#Multi Dimensionals Arrays\n",
    "#Matrix with integer values\n",
    "A1 = [1 10 100;\n",
    "      2 20 200;\n",
    "      3 30 300]\n",
    "\n",
    "#Matrix with Float values\n",
    "A2 = [0.5 0.5 0.5;\n",
    "      1.0 1.0 1.0;\n",
    "      1.5 1.5 1.5]\n",
    "\n",
    "#Matrix with character values\n",
    "A3 = ['a' 'e' 'f';\n",
    "      'b' 'g' 'h';\n",
    "      'c' 'i' 'j']\n",
    "\n",
    "#Matrix with String values\n",
    "A4 = [\"one\" \"hundred\" \"thousand\";\n",
    "      \"two\" \"two hundred\" \"two thousand\";\n",
    "      \"three\" \"three hundred\" \"three thousand\"]\n",
    "\n",
    "#Matrix with Bool values\n",
    "A5 = [true false; \n",
    "      true false]\n",
    "\n",
    "#Checking the type of each vector\n",
    "println(\"A1 is \", typeof(A1))\n",
    "println(\"A2 is \", typeof(A2))\n",
    "println(\"A3 is \", typeof(A3))\n",
    "println(\"A4 is \", typeof(A4))\n",
    "\n",
    "println(\"==============================\")\n",
    "println(\"==============================\")\n",
    "\n",
    "#Checking the values of each vector\n",
    "println(\"A1 =\", A1)\n",
    "println(\"A2 =\", A2)\n",
    "println(\"A3 =\", A3)\n",
    "println(\"A4 =\", A4)\n"
   ]
  },
  {
   "cell_type": "code",
   "execution_count": 5,
   "metadata": {},
   "outputs": [
    {
     "name": "stdout",
     "output_type": "stream",
     "text": [
      "A_zeros = [0.0 0.0 0.0; 0.0 0.0 0.0; 0.0 0.0 0.0]\n",
      "A_ones = [1.0 1.0 1.0; 1.0 1.0 1.0]\n",
      "A_trues = Bool[true true; true true; true true]\n"
     ]
    }
   ],
   "source": [
    "#Multi Dimensionals Arrays (Cont.)\n",
    "#initializing Matrices with specific values\n",
    "\n",
    "#3×3 Matrix with zeros\n",
    "A_zeros = zeros(3,3)\n",
    "\n",
    "#2×3 Matrix with  ones\n",
    "A_ones = ones(2,3)\n",
    "\n",
    "#3×2 Matrix with trues\n",
    "A_trues = trues(3,2)\n",
    "\n",
    "println(\"A_zeros = \", A_zeros)\n",
    "println(\"A_ones = \", A_ones)\n",
    "println(\"A_trues = \", A_trues)\n"
   ]
  },
  {
   "cell_type": "code",
   "execution_count": 6,
   "metadata": {},
   "outputs": [
    {
     "name": "stdout",
     "output_type": "stream",
     "text": [
      "the ith element of c1 is = 2\n",
      "the element in the ith row and jth coloumn of A1 = 200\n"
     ]
    }
   ],
   "source": [
    "#accessing elements \n",
    "i =2;\n",
    "j =3;\n",
    "#accessing the ith element in the coloumn vector c1\n",
    "println(\"the ith element of c1 is = \", c1[i])\n",
    "println(\"the element in the ith row and jth coloumn of A1 = \", A1[i,j])"
   ]
  },
  {
   "cell_type": "code",
   "execution_count": 7,
   "metadata": {},
   "outputs": [
    {
     "name": "stdout",
     "output_type": "stream",
     "text": [
      "A_undef = Array{Int64}(0,0)\n",
      "A_fill = [\"abc\" \"abc\" \"abc\"; \"abc\" \"abc\" \"abc\"]\n"
     ]
    }
   ],
   "source": [
    "#Other ways to define arrays/Matrices\n",
    "A_undef = Array{Int64,2}(undef,0,0)\n",
    "A_fill = fill(\"abc\",2,3)\n",
    "println(\"A_undef = \", A_undef)\n",
    "println(\"A_fill = \", A_fill)"
   ]
  },
  {
   "cell_type": "code",
   "execution_count": 8,
   "metadata": {},
   "outputs": [
    {
     "name": "stdout",
     "output_type": "stream",
     "text": [
      "using for loops\n",
      "x = 1\n",
      "x = 2\n",
      "x = 3\n",
      "x = 4\n",
      "x = 5\n",
      "====================================\n",
      "using while loops\n",
      "x = 1\n",
      "x = 2\n",
      "x = 3\n",
      "x = 4\n",
      "x = 5\n",
      "====================================\n",
      "increment x by 1 until the first even number that is greater 10\n",
      "x = 1\n",
      "x = 2\n",
      "x = 3\n",
      "x = 4\n",
      "x = 5\n",
      "x = 6\n",
      "x = 7\n",
      "x = 8\n",
      "x = 9\n",
      "x = 10\n",
      "x = 11\n",
      "x = 12\n"
     ]
    }
   ],
   "source": [
    "#Controling the flow \n",
    "\n",
    "#increment x by 1 5 times \n",
    "#using for loops \n",
    "println(\"using for loops\")\n",
    "x = 0;\n",
    "for i=1:5\n",
    "    x +=1\n",
    "    println(\"x = \", x)\n",
    "end\n",
    "println(\"====================================\")\n",
    "\n",
    "#using while loops\n",
    "println(\"using while loops\")\n",
    "x = 0;\n",
    "while x < 5 \n",
    "    x +=1\n",
    "    println(\"x = \", x)\n",
    "end\n",
    "println(\"====================================\")\n",
    "#increment x by 1 until the first even number that is greater 10\n",
    "println(\"increment x by 1 until the first even number that is greater 10\")\n",
    "x = 0;\n",
    "y = 1\n",
    "while true\n",
    "    x +=1\n",
    "    y *=x \n",
    "    println(\"x = \", x)\n",
    "    if x > 10 && iseven(x) \n",
    "        break\n",
    "    else\n",
    "        continue\n",
    "    end\n",
    "end"
   ]
  },
  {
   "cell_type": "code",
   "execution_count": 9,
   "metadata": {},
   "outputs": [
    {
     "name": "stdout",
     "output_type": "stream",
     "text": [
      "using the inline function f(3) = 10.732050807568877\n",
      "====================================\n",
      "using the generic function callled myfunction\n",
      "====================================\n",
      "old a is  =[1 2 3 4 5]\n",
      "filtered a is = [1, 2, 3]\n"
     ]
    }
   ],
   "source": [
    "#functions \n",
    "\n",
    "#inline functions f(x) = x²+√x\n",
    "f(x) = x^2 + sqrt(x);\n",
    "println(\"using the inline function f(3) = \", f(3))\n",
    "println(\"====================================\")\n",
    "\n",
    "\n",
    "#generic function \n",
    "function myfunction(x,y,z)\n",
    "    u=y^2;\n",
    "    v = x+z;\n",
    "    return u, v\n",
    "end \n",
    "println(\"using the generic function callled myfunction\")\n",
    "x = 3;\n",
    "z = 5;\n",
    "z = pi\n",
    "u , v = myfunction(x,y,z)\n",
    "println(\"====================================\")\n",
    "\n",
    "\n",
    "#anonymous function \n",
    "#filter the vector a and keep only the elements which are smaller than 4\n",
    "a = [1 2 3 4 5];\n",
    "println(\"old a is  =\", a)\n",
    "a = filter(x -> x <4,a);\n",
    "println(\"filtered a is = \", a)"
   ]
  },
  {
   "cell_type": "code",
   "execution_count": null,
   "metadata": {},
   "outputs": [],
   "source": []
  },
  {
   "cell_type": "code",
   "execution_count": null,
   "metadata": {},
   "outputs": [],
   "source": []
  }
 ],
 "metadata": {
  "kernelspec": {
   "display_name": "Julia 1.0.4",
   "language": "julia",
   "name": "julia-1.0"
  },
  "language_info": {
   "file_extension": ".jl",
   "mimetype": "application/julia",
   "name": "julia",
   "version": "1.0.4"
  }
 },
 "nbformat": 4,
 "nbformat_minor": 2
}
