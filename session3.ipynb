{
 "cells": [
  {
   "cell_type": "code",
   "execution_count": 1,
   "metadata": {},
   "outputs": [],
   "source": [
    "using JuMP;\n",
    "using Gurobi;"
   ]
  },
  {
   "cell_type": "markdown",
   "metadata": {},
   "source": [
    "# Integer Programming\n"
   ]
  },
  {
   "cell_type": "markdown",
   "metadata": {},
   "source": [
    "# Example 1: (0-1) Knapsack Problem\n",
    "Consider a set $N = \\{1, 2, \\dots, n\\}$ with $n$ items, where:\n",
    "* Each item $i \\in N$ has a weight $w_i$ and a value $c_i$.\n",
    "* Assumption: a fraction of an item has $0$ value. \n",
    "* Goal: maximize the total value of items in a knapsack which has a cpacity $b$.\n",
    "\n",
    "### Decision variables: \n",
    "$\n",
    "\\Bigg\\{\n",
    "\\begin{array}{cc}\n",
    "& x_i = 1 ; & \\text{If item} \\ i \\ \\text{is included in the knapsack} \\\\\n",
    "& x_i = 0 ; & \\text{Otherwise} \\\\ \n",
    "\\end{array}\n",
    "\\quad \\forall \\ i = 1, 2, \\dots, n.\n",
    "$\n",
    "\n",
    "\\begin{align*}\n",
    "\\max_{\\text{s.t.}} \\ & \\sum_{i=1}^{n} c_i x_i   \\\\\n",
    "& \\sum_{i=1}^{n} w_i x_i \\leq b & \\\\\n",
    "& x_i \\ \\in \\{0, 1\\}, \\ i=1, 2, \\dots, n \\\\\n",
    "\\end{align*}\n",
    "\n",
    "* Suppose your knapsack has **capacity of 8** and the **weights** and **values** of the items are given by:\n",
    "\n",
    "|items |   1  |  2   |   3  |  4   |\n",
    "|------|------|------|------|------|\n",
    "|value | 30   |  60  |  70  |   50  |\n",
    "|weight|  1   |  5   |  4   |   3  |      \n"
   ]
  },
  {
   "cell_type": "code",
   "execution_count": 2,
   "metadata": {},
   "outputs": [],
   "source": [
    "n= 4; #number of available items\n",
    "b = 8; #capacity\n",
    "c = [30, 60, 70, 50]; #values\n",
    "w = [2, 5, 4, 3]; #weights"
   ]
  },
  {
   "cell_type": "code",
   "execution_count": 3,
   "metadata": {},
   "outputs": [
    {
     "name": "stdout",
     "output_type": "stream",
     "text": [
      "Academic license - for non-commercial use only\n",
      "Academic license - for non-commercial use only\n",
      "Optimize a model with 1 rows, 4 columns and 4 nonzeros\n",
      "Variable types: 0 continuous, 4 integer (4 binary)\n",
      "Coefficient statistics:\n",
      "  Matrix range     [2e+00, 5e+00]\n",
      "  Objective range  [3e+01, 7e+01]\n",
      "  Bounds range     [0e+00, 0e+00]\n",
      "  RHS range        [8e+00, 8e+00]\n",
      "Found heuristic solution: objective 90.0000000\n",
      "Presolve removed 1 rows and 4 columns\n",
      "Presolve time: 0.00s\n",
      "Presolve: All rows and columns removed\n",
      "\n",
      "Explored 0 nodes (0 simplex iterations) in 0.00 seconds\n",
      "Thread count was 1 (of 4 available processors)\n",
      "\n",
      "Solution count 2: 120 90 \n",
      "\n",
      "Optimal solution found (tolerance 1.00e-04)\n",
      "Best objective 1.200000000000e+02, best bound 1.200000000000e+02, gap 0.0000%\n",
      "=======================================\n",
      "=======================================\n",
      "Status = OPTIMAL\n",
      "Optimal objective value = 120.0\n",
      "Optimal x value = [0.0, 0.0, 1.0, 1.0]\n"
     ]
    }
   ],
   "source": [
    "KS = Model(with_optimizer(Gurobi.Optimizer));\n",
    "#Define a decision variable for each item in the set N\n",
    "@variable(KS, x[i=1:n], Bin); #Bin ==> is telling the solver x must be either 1 or 0.\n",
    "@objective(KS, Max, sum(c[i]*x[i] for i=1:n));\n",
    "@constraint(KS, sum(w[i]*x[i] for i=1:n)<= b);\n",
    "\n",
    "\n",
    "#Solving the problem\n",
    "optimize!(KS);\n",
    "status = termination_status(KS);\n",
    "obj_value = objective_value(KS);\n",
    "\n",
    "#getting the value of the decision variables x\n",
    "x_value = value.(x);\n",
    "println(\"=======================================\")\n",
    "println(\"=======================================\")\n",
    "println(\"Status = \", status)\n",
    "println(\"Optimal objective value = \", obj_value)\n",
    "println(\"Optimal x value = \", x_value)"
   ]
  },
  {
   "cell_type": "markdown",
   "metadata": {},
   "source": [
    "### Now suppose there are multiple of each items and we can take as many as we want. \n",
    "\n",
    "### Decision variables: \n",
    "$\n",
    "\\begin{array}{cc}\n",
    "& x_i : & \\text{How many of item} \\ i \\ \\text{should we include in the Knapsack} \\\\\n",
    "\\end{array}\n",
    "\\quad \\forall \\ i = 1, 2, \\dots, n.\n",
    "$\n",
    "\n",
    "\\begin{align*}\n",
    "\\max_{\\text{s.t.}} \\ & \\sum_{i=1}^{n} c_i x_i   \\\\\n",
    "& \\sum_{i=1}^{n} w_i x_i \\leq b & \\\\\n",
    "& x_i \\ \\in \\mathbb{Z}_{+}, \\ i=1, 2, \\dots, n \\\\\n",
    "\\end{align*}"
   ]
  },
  {
   "cell_type": "code",
   "execution_count": 4,
   "metadata": {},
   "outputs": [
    {
     "name": "stdout",
     "output_type": "stream",
     "text": [
      "Academic license - for non-commercial use only\n",
      "Academic license - for non-commercial use only\n",
      "Optimize a model with 1 rows, 4 columns and 4 nonzeros\n",
      "Variable types: 0 continuous, 4 integer (0 binary)\n",
      "Coefficient statistics:\n",
      "  Matrix range     [2e+00, 5e+00]\n",
      "  Objective range  [3e+01, 7e+01]\n",
      "  Bounds range     [0e+00, 0e+00]\n",
      "  RHS range        [3e+02, 3e+02]\n",
      "Found heuristic solution: objective 4350.0000000\n",
      "Presolve removed 0 rows and 1 columns\n",
      "Presolve time: 0.00s\n",
      "Presolved: 1 rows, 3 columns, 3 nonzeros\n",
      "Variable types: 0 continuous, 3 integer (0 binary)\n",
      "\n",
      "Root relaxation: objective 5.090000e+03, 1 iterations, 0.00 seconds\n",
      "\n",
      "    Nodes    |    Current Node    |     Objective Bounds      |     Work\n",
      " Expl Unexpl |  Obj  Depth IntInf | Incumbent    BestBd   Gap | It/Node Time\n",
      "\n",
      "*    0     0               0    5090.0000000 5090.00000  0.00%     -    0s\n",
      "\n",
      "Explored 0 nodes (1 simplex iterations) in 0.00 seconds\n",
      "Thread count was 4 (of 4 available processors)\n",
      "\n",
      "Solution count 2: 5090 4350 \n",
      "\n",
      "Optimal solution found (tolerance 1.00e-04)\n",
      "Best objective 5.090000000000e+03, best bound 5.090000000000e+03, gap 0.0000%\n",
      "=======================================\n",
      "=======================================\n",
      "Status = OPTIMAL\n",
      "Optimal objective value = 5090.0\n",
      "Optimal x value = [-0.0, -0.0, 72.0, 1.0]\n"
     ]
    }
   ],
   "source": [
    "b = 291.91; #capacity\n",
    "c = [30, 60, 70, 50]; #values\n",
    "w = [2, 5, 4, 3]; #weights\n",
    "\n",
    "KS_integer = Model(with_optimizer(Gurobi.Optimizer));\n",
    "#Define a decision variable for each item in the set N\n",
    "@variable(KS_integer, x[i=1:n]>=0, Int); #Int ==> is telling the solver x must be an integer value.\n",
    "@objective(KS_integer, Max, sum(c[i]*x[i] for i=1:n));\n",
    "@constraint(KS_integer, sum(w[i]*x[i] for i=1:n)<= b);\n",
    "\n",
    "\n",
    "#Solving the problem\n",
    "optimize!(KS_integer);\n",
    "status = termination_status(KS_integer);\n",
    "obj_value = objective_value(KS_integer);\n",
    "\n",
    "#getting the value of the decision variables x\n",
    "x_value = value.(x);\n",
    "println(\"=======================================\")\n",
    "println(\"=======================================\")\n",
    "println(\"Status = \", status)\n",
    "println(\"Optimal objective value = \", obj_value)\n",
    "println(\"Optimal x value = \", x_value)"
   ]
  },
  {
   "cell_type": "markdown",
   "metadata": {},
   "source": [
    "# Consider the following Travelling Salesman Problem (TSP)\n",
    " \\begin{align*}\n",
    " \\min_{\\text{s.t.}} \\ & \\sum_{e \\in E} c_{e}x_{e}  \\\\\n",
    " & \\sum_{e \\in \\delta (v)} x_e = 2 \\ , \\ \\forall v \\in V\\\\\n",
    " & \\sum_{e \\in \\delta (S)} x_{e} \\ge 2 \\ , \\ \\forall \\emptyset \\neq S \\neq V \\\\\n",
    " & x_{e} \\in \\{0,1\\} \\ , \\ \\forall e \\in E\\\\\n",
    "\\end{align*}"
   ]
  },
  {
   "cell_type": "code",
   "execution_count": 5,
   "metadata": {},
   "outputs": [
    {
     "data": {
      "text/plain": [
       "extractTour (generic function with 1 method)"
      ]
     },
     "execution_count": 5,
     "metadata": {},
     "output_type": "execute_result"
    }
   ],
   "source": [
    "# extractTour\n",
    "# Given a n-by-n matrix representing the solution to an undirected TSP,\n",
    "# extract the tour as a vector\n",
    "# Input:\n",
    "#  n        Number of cities\n",
    "#  sol      n-by-n 0-1 symmetric matrix representing solution\n",
    "# Output:\n",
    "#  tour     n+1 length vector of tour, starting and ending at 1\n",
    "\n",
    "function extractTour(n, sol)\n",
    "    tour = [1]  # Start at city 1 always\n",
    "    cur_city = 1\n",
    "    while true\n",
    "        # Look for first arc out of current city\n",
    "        for j = 1:n\n",
    "            if sol[cur_city,j] >= 1-1e-6\n",
    "                # Found next city\n",
    "                push!(tour, j)\n",
    "                # Don't ever use this arc again\n",
    "                sol[cur_city, j] = 0.0\n",
    "                sol[j, cur_city] = 0.0\n",
    "                # Move to next city\n",
    "                cur_city = j\n",
    "                break\n",
    "            end\n",
    "        end\n",
    "        # If we have come back to 1, stop\n",
    "        if cur_city == 1\n",
    "            break\n",
    "        end\n",
    "    end  # end while\n",
    "    return tour\n",
    "end"
   ]
  },
  {
   "cell_type": "code",
   "execution_count": 6,
   "metadata": {},
   "outputs": [
    {
     "data": {
      "text/plain": [
       "findSubtour (generic function with 1 method)"
      ]
     },
     "execution_count": 6,
     "metadata": {},
     "output_type": "execute_result"
    }
   ],
   "source": [
    "# findSubtour\n",
    "# Given a n-by-n matrix representing solution to the relaxed\n",
    "# undirected TSP problem, find a set of nodes belonging to a subtour\n",
    "# Input:\n",
    "#  n        Number of cities\n",
    "#  sol      n-by-n 0-1 symmetric matrix representing solution\n",
    "# Outputs:\n",
    "#  subtour  n length vector of booleans, true iff in a particular subtour\n",
    "#  subtour_length   Number of cities in subtour (if n, no subtour found)\n",
    "function findSubtour(n, sol)\n",
    "    # Initialize to no subtour\n",
    "    subtour = fill(false,n)\n",
    "    # Always start looking at city 1\n",
    "    cur_city = 1\n",
    "    subtour[cur_city] = true\n",
    "    subtour_length = 1\n",
    "    while true\n",
    "        # Find next node that we haven't yet visited\n",
    "        found_city = false\n",
    "        for j = 1:n\n",
    "            if !subtour[j]\n",
    "                if sol[cur_city, j] >= 1 - 1e-6\n",
    "                    # Arc to unvisited city, follow it\n",
    "                    cur_city = j\n",
    "                    subtour[j] = true\n",
    "                    found_city = true\n",
    "                    subtour_length += 1\n",
    "                    break  # Move on to next city\n",
    "                end\n",
    "            end\n",
    "        end\n",
    "        if !found_city\n",
    "            # We are done\n",
    "            break\n",
    "        end\n",
    "    end\n",
    "    return subtour, subtour_length\n",
    "end"
   ]
  },
  {
   "cell_type": "code",
   "execution_count": 7,
   "metadata": {},
   "outputs": [],
   "source": [
    "using LinearAlgebra"
   ]
  },
  {
   "cell_type": "code",
   "execution_count": 8,
   "metadata": {},
   "outputs": [
    {
     "data": {
      "text/plain": [
       "solveTSP (generic function with 1 method)"
      ]
     },
     "execution_count": 8,
     "metadata": {},
     "output_type": "execute_result"
    }
   ],
   "source": [
    "# solveTSP\n",
    "# Given a matrix of city locations, solve the TSP\n",
    "# Inputs:\n",
    "#   n       Number of cities\n",
    "#   cities  n-by-2 matrix of (x,y) city locations\n",
    "# Output:\n",
    "#   path    Vector with order to cities are visited in\n",
    "function solveTSP(n, cities)\n",
    "  # Calculate pairwise distance matrix\n",
    "    dist = zeros(n, n)\n",
    "    for i = 1:n\n",
    "        for j = i:n\n",
    "            d = norm(cities[i,1:2] - cities[j,1:2])\n",
    "            dist[i,j] = d\n",
    "            dist[j,i] = d\n",
    "        end\n",
    "    end\n",
    "\n",
    "    # Create a model that will use Gurobi to solve\n",
    "    TSP = Model(with_optimizer(Gurobi.Optimizer, OutputFlag=0));\n",
    "\n",
    "\n",
    "    # x[i,j] is 1 iff we travel between i and j, 0 otherwise\n",
    "    # Although we define all n^2 variables, we will only use\n",
    "    # the upper triangle\n",
    "    @variable(TSP, x[1:n,1:n], Bin)\n",
    "\n",
    "    # Minimize length of tour\n",
    "    @objective(TSP, Min, sum(dist[i,j]*x[i,j] for i=1:n for j=i:n))\n",
    "\n",
    "    # Make x_ij and x_ji be the same thing (undirectional)\n",
    "    # Don't allow self-arcs\n",
    "    for i = 1:n\n",
    "        @constraint(TSP, x[i,i] == 0)\n",
    "        for j = (i+1):n\n",
    "            @constraint(TSP, x[i,j] == x[j,i])\n",
    "        end\n",
    "    end\n",
    "\n",
    "    # We must enter and leave every city once and only once\n",
    "    for i = 1:n\n",
    "        @constraint(TSP, sum(x[i,j] for j=1:n) == 2)\n",
    "    end\n",
    "\n",
    "    while true\n",
    "        # Optional: display tour starting at city 1\n",
    "        println(\"Current tour starting at city 1:\")\n",
    "        optimize!(TSP)\n",
    "        println(extractTour(n, value.(x)))\n",
    "\n",
    "        # Find any set of cities in a subtour\n",
    "        subtour, subtour_length = findSubtour(n, value.(x))\n",
    "\n",
    "        if subtour_length == n\n",
    "            # This \"subtour\" is actually all cities, so we are done\n",
    "            println(\"===================================================\")\n",
    "            println(\"===================================================\")\n",
    "            println(\"Solution visits all cities!\")\n",
    "            println(\"----\")\n",
    "            break\n",
    "        end\n",
    "\n",
    "        # Subtour found - add lazy constraint\n",
    "        # We will build it up piece-by-piece\n",
    "        arcs_from_subtour = zero(AffExpr)\n",
    "\n",
    "        for i = 1:n\n",
    "            if !subtour[i]\n",
    "                # If this city isn't in subtour, skip it\n",
    "                continue\n",
    "            end\n",
    "            # Want to include all arcs from this city, which is in\n",
    "            # the subtour, to all cities not in the subtour\n",
    "            for j = 1:n\n",
    "                if i == j\n",
    "                    # Self-arc\n",
    "                    continue\n",
    "                elseif subtour[j]\n",
    "                    # Both ends in same subtour\n",
    "                    continue\n",
    "                else\n",
    "                    # j isn't in subtour\n",
    "                    arcs_from_subtour += x[i,j]\n",
    "                end\n",
    "            end\n",
    "        end\n",
    "\n",
    "        # Add the new subtour elimination constraint we built\n",
    "        println(\"Adding subtour elimination cut\")\n",
    "        println(\"----\")\n",
    "        @constraint(TSP,  arcs_from_subtour >= 2)        \n",
    "    end  # End function subtour\n",
    "\n",
    "    # Return best tour\n",
    "    return extractTour(n, value.(x))\n",
    "end\n",
    "# end solveTSP\n"
   ]
  },
  {
   "cell_type": "code",
   "execution_count": 9,
   "metadata": {},
   "outputs": [
    {
     "name": "stdout",
     "output_type": "stream",
     "text": [
      "Academic license - for non-commercial use only\n",
      "Current tour starting at city 1:\n",
      "Academic license - for non-commercial use only\n",
      "[1, 2, 3, 1]\n",
      "Adding subtour elimination cut\n",
      "----\n",
      "Current tour starting at city 1:\n",
      "[1, 2, 4, 6, 5, 3, 1]\n",
      "===================================================\n",
      "===================================================\n",
      "Solution visits all cities!\n",
      "----\n",
      "Solution: \n",
      "[1, 2, 4, 6, 5, 3, 1]\n"
     ]
    }
   ],
   "source": [
    "# Create a simple instance that looks like\n",
    "#       +           +\n",
    "#   +                   +\n",
    "#       +           +\n",
    "# The optimal tour is obvious, but the initial solution will be\n",
    "#    /--+           +--\\\n",
    "#   +               |   +\n",
    "#    \\--+           +--/\n",
    "n = 6\n",
    "cities =[50 200;\n",
    "        100 100;\n",
    "        100 300;\n",
    "        500 100;\n",
    "        500 300;\n",
    "        550 200]\n",
    "tour = solveTSP(n, cities)\n",
    "println(\"Solution: \")\n",
    "println(tour)"
   ]
  },
  {
   "cell_type": "markdown",
   "metadata": {},
   "source": [
    "# Nonlinear Programming\n",
    "JuMP has support for general smooth nonlinear (convex and nonconvex) optimization problems. JuMP is able to provide exact, sparse second-order derivatives to solvers. This information can improve solver accuracy and performance.\n",
    "* @NLobjective: Nonlinear objectives.\n",
    "* @NLconstraint: Nonlinear constraints.\n",
    "* Starting points may be provided by using the start keyword argument to @variable.\n",
    "\n",
    "## Consider the following unconstrained nonlinear optimization problem: \n",
    "### Rosenbrock function\n",
    " \n",
    "\n",
    "\\begin{align*}\n",
    "\\min_{\\text{x, y}} \\ & (1-x)^2 + 100(y-x^2)^2 \\\\\n",
    "\\end{align*}\n"
   ]
  },
  {
   "cell_type": "code",
   "execution_count": 10,
   "metadata": {
    "scrolled": true
   },
   "outputs": [],
   "source": [
    "using Ipopt;"
   ]
  },
  {
   "cell_type": "code",
   "execution_count": 11,
   "metadata": {},
   "outputs": [],
   "source": [
    "RB = Model(with_optimizer(Ipopt.Optimizer, print_level=0))\n",
    "@variable(RB, x, start = 0.0);\n",
    "@variable(RB, y, start = 0.0);"
   ]
  },
  {
   "cell_type": "code",
   "execution_count": 12,
   "metadata": {},
   "outputs": [
    {
     "name": "stdout",
     "output_type": "stream",
     "text": [
      "\n",
      "******************************************************************************\n",
      "This program contains Ipopt, a library for large-scale nonlinear optimization.\n",
      " Ipopt is released as open source code under the Eclipse Public License (EPL).\n",
      "         For more information visit http://projects.coin-or.org/Ipopt\n",
      "******************************************************************************\n",
      "\n",
      "=======================================\n",
      "=======================================\n",
      "Status = LOCALLY_SOLVED\n",
      "Optimal objective value = 1.3288608467480825e-28\n",
      "Optimal x value = 0.9999999999999899\n",
      "Optimal y value = 0.9999999999999792\n"
     ]
    }
   ],
   "source": [
    "@NLobjective(RB, Min, (1 - x)^2 + 100 * (y - x^2)^2);\n",
    "optimize!(RB)\n",
    "status = termination_status(RB);\n",
    "obj_value = objective_value(RB);\n",
    "x_value = value(x);\n",
    "y_value = value(y);\n",
    "println(\"=======================================\")\n",
    "println(\"=======================================\")\n",
    "println(\"Status = \", status)\n",
    "println(\"Optimal objective value = \", obj_value)\n",
    "println(\"Optimal x value = \", x_value)\n",
    "println(\"Optimal y value = \", y_value)"
   ]
  },
  {
   "cell_type": "markdown",
   "metadata": {},
   "source": [
    "## Consider the following constrained nonlinear optimization problem: \n",
    "\n",
    "\\begin{align*}\n",
    "\\min_{\\text{x} \\in \\mathbb{R}^4} \\ & x_1x_4(x_1+x_2+x_3)+x_3 \\\\\n",
    "& x_1x_2x_3x_4 \\geq 25 \\\\\n",
    "& \\sum_{i=1}^4 x_i^2 = 40 \\\\\n",
    "\\end{align*}"
   ]
  },
  {
   "cell_type": "code",
   "execution_count": 13,
   "metadata": {},
   "outputs": [
    {
     "name": "stdout",
     "output_type": "stream",
     "text": [
      "  2.208443 seconds (2.82 M allocations: 137.430 MiB, 4.38% gc time)\n",
      "=======================================\n",
      "=======================================\n",
      "Status = LOCALLY_SOLVED\n",
      "Optimal objective value = 17.014017277729653\n",
      "Optimal x value = [1.0, 4.743, 3.82115, 1.37941]\n"
     ]
    }
   ],
   "source": [
    "NL = Model(with_optimizer(Ipopt.Optimizer, print_level=0))\n",
    "initval = [1,5,5,1]\n",
    "@variable(NL, 1 <= x[i=1:4] <= 5, start=initval[i])\n",
    "@NLobjective(NL, Min, x[1]*x[4]*(x[1]+x[2]+x[3]) + x[3])\n",
    "@NLconstraint(NL, x[1]*x[2]*x[3]*x[4] >= 25)\n",
    "@NLconstraint(NL, sum(x[i]^2 for i=1:4) == 40)\n",
    "@time begin\n",
    "    optimize!(NL)\n",
    "end\n",
    "status = termination_status(NL);\n",
    "obj_value = objective_value(NL);\n",
    "x_value = value.(x);\n",
    "println(\"=======================================\")\n",
    "println(\"=======================================\")\n",
    "println(\"Status = \", status)\n",
    "println(\"Optimal objective value = \", obj_value)\n",
    "println(\"Optimal x value = \", x_value)"
   ]
  },
  {
   "cell_type": "markdown",
   "metadata": {},
   "source": [
    "## More examples and notes on the syntax can be found here:\n",
    "* Examples: https://github.com/JuliaOpt/JuMP.jl/blob/bff0916a2025df64e4a0be8933b58ea7bdc5eb0b/test/nlp_solver.jl\n",
    "* Notes: http://www.juliaopt.org/JuMP.jl/v0.19.0/nlp/#Syntax-notes-1"
   ]
  },
  {
   "cell_type": "code",
   "execution_count": null,
   "metadata": {},
   "outputs": [],
   "source": []
  }
 ],
 "metadata": {
  "kernelspec": {
   "display_name": "Julia 1.0.4",
   "language": "julia",
   "name": "julia-1.0"
  },
  "language_info": {
   "file_extension": ".jl",
   "mimetype": "application/julia",
   "name": "julia",
   "version": "1.0.4"
  }
 },
 "nbformat": 4,
 "nbformat_minor": 2
}
